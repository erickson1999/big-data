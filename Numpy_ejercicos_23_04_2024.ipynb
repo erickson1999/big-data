{
  "nbformat": 4,
  "nbformat_minor": 0,
  "metadata": {
    "colab": {
      "provenance": [],
      "authorship_tag": "ABX9TyMSrq0F5WF1Wv8MwawGaO+o",
      "include_colab_link": true
    },
    "kernelspec": {
      "name": "python3",
      "display_name": "Python 3"
    },
    "language_info": {
      "name": "python"
    }
  },
  "cells": [
    {
      "cell_type": "markdown",
      "metadata": {
        "id": "view-in-github",
        "colab_type": "text"
      },
      "source": [
        "<a href=\"https://colab.research.google.com/github/erickson1999/big-data/blob/main/Numpy_ejercicos_23_04_2024.ipynb\" target=\"_parent\"><img src=\"https://colab.research.google.com/assets/colab-badge.svg\" alt=\"Open In Colab\"/></a>"
      ]
    },
    {
      "cell_type": "markdown",
      "source": [
        "**1. Importar NumPy:**"
      ],
      "metadata": {
        "id": "J4Mms20YPFjE"
      }
    },
    {
      "cell_type": "code",
      "execution_count": 54,
      "metadata": {
        "id": "feydufJOO-yc"
      },
      "outputs": [],
      "source": [
        "import numpy as np"
      ]
    },
    {
      "cell_type": "markdown",
      "source": [
        "**1. Creación de Arrays:**\n",
        "*   Crea un array unidimensional (vector) con 5 elementos enteros de tu\n",
        "elección.\n",
        "*   Crea una matriz bidimensional (matriz) de tamaño 3x3 con valores\n",
        "enteros consecutivos.\n",
        "*   Utiliza la función np.zeros() para crear una matriz de tamaño 2x4 llena\n",
        "de ceros.\n",
        "*   Utiliza la función np.ones() para crear una matriz de tamaño 3x2 llena\n",
        "de unos.\n",
        "*   Utiliza la función np.random.randint() para crear una matriz.\n",
        "\n",
        "\n",
        "\n",
        "\n",
        "\n",
        "\n",
        "\n",
        "\n",
        "\n"
      ],
      "metadata": {
        "id": "odpzLyjUPP30"
      }
    },
    {
      "cell_type": "code",
      "source": [
        "# Crea un array unidimensional (vector) con 5 elementos enteros de tu\n",
        "# elección.\n",
        "a1 = np.array([1,2,3,4,5])\n",
        "print(\"matriz unidimensional: \",a1)\n",
        "# Crea una matriz bidimensional (matriz) de tamaño 3x3 con valores\n",
        "# enteros consecutivos.\n",
        "a2 = np.array([[1,2,3],[4,5,6],[7,8,9]])\n",
        "print(\"matriz bidimensional 3x3: \",a2)\n",
        "# Utiliza la función np.zeros() para crear una matriz de tamaño 2x4 llena de ceros\n",
        "a3 = np.zeros((2,4),int)\n",
        "print(\"matriz ceros: \",a3)\n",
        "# Utiliza la función np.ones() para crear una matriz de tamaño 3x2 llena de unos.\n",
        "a4 = np.ones((3,2),int)\n",
        "print(\"matriz unos: \", a4)\n",
        "# Utiliza la función np.random.randint() para crear una matriz.\n",
        "a5 = np.random.randint(1,4,size=(3,3))\n",
        "print(\"matriz aleatoria 3x3: \",a5 )"
      ],
      "metadata": {
        "colab": {
          "base_uri": "https://localhost:8080/"
        },
        "id": "e9z90tLQPaaY",
        "outputId": "bd55d667-c7bf-4fe6-b307-27b11daf4f46"
      },
      "execution_count": 55,
      "outputs": [
        {
          "output_type": "stream",
          "name": "stdout",
          "text": [
            "matriz unidimensional:  [1 2 3 4 5]\n",
            "matriz bidimensional 3x3:  [[1 2 3]\n",
            " [4 5 6]\n",
            " [7 8 9]]\n",
            "matriz ceros:  [[0 0 0 0]\n",
            " [0 0 0 0]]\n",
            "matriz unos:  [[1 1]\n",
            " [1 1]\n",
            " [1 1]]\n",
            "matriz aleatoria 3x3:  [[3 3 1]\n",
            " [2 2 1]\n",
            " [1 2 3]]\n"
          ]
        }
      ]
    },
    {
      "cell_type": "markdown",
      "source": [
        "**2. Acceso a Elementos:**\n",
        "* Accede al tercer elemento del vector creado en el paso 2.\n",
        "* Accede al elemento en la segunda fila y segunda columna de la matriz\n",
        "creada en el paso 2."
      ],
      "metadata": {
        "id": "WV2Pt7sOR0Vz"
      }
    },
    {
      "cell_type": "code",
      "source": [
        "# Accede al tercer elemento del vector creado en el paso 2.\n",
        "ele3 = a1[2]\n",
        "print(\"tercer elemento: \", ele3)\n",
        "# Accede al elemento en la segunda fila y segunda columna de la matriz creada en el paso 2\n",
        "ele2x2 = a2[2][2]\n",
        "print(\"elemento 2x2: \", ele2x2)\n"
      ],
      "metadata": {
        "colab": {
          "base_uri": "https://localhost:8080/"
        },
        "id": "j7XeurKuRuh8",
        "outputId": "b0888480-03e1-4a49-c960-b55a651aec8e"
      },
      "execution_count": 56,
      "outputs": [
        {
          "output_type": "stream",
          "name": "stdout",
          "text": [
            "tercer elemento:  3\n",
            "elemento 2x2:  9\n"
          ]
        }
      ]
    },
    {
      "cell_type": "markdown",
      "source": [
        "**3. Propiedades de los Arrays:**\n",
        "* Utiliza el atributo ndim para verificar la cantidad de dimensiones de la\n",
        "matriz creada en el paso 2.\n",
        "* Utiliza el atributo shape para obtener la forma de la matriz creada en el\n",
        "paso 2.\n",
        "* Utiliza el atributo size para obtener el tamaño total de la matriz creada\n",
        "en el paso 2."
      ],
      "metadata": {
        "id": "GQQicXizTMwS"
      }
    },
    {
      "cell_type": "code",
      "source": [
        "# Utiliza el atributo ndim para verificar la cantidad de dimensiones de la matriz creada en el paso 2.\n",
        "d1 = a1.ndim\n",
        "print(\"ndim: \",d1)\n",
        "# Utiliza el atributo shape para obtener la forma de la matriz creada en el paso 2.\n",
        "d2 = a1.shape\n",
        "print(\"shape: \",d2)\n",
        "# Utiliza el atributo size para obtener el tamaño total de la matriz creada en el paso 2\n",
        "d3 = a1.size\n",
        "print(\"size: \",d3)"
      ],
      "metadata": {
        "colab": {
          "base_uri": "https://localhost:8080/"
        },
        "id": "X689wsjMTVhI",
        "outputId": "59ac6d9c-ad6c-447f-885d-de26049d4b69"
      },
      "execution_count": 57,
      "outputs": [
        {
          "output_type": "stream",
          "name": "stdout",
          "text": [
            "ndim:  1\n",
            "shape:  (5,)\n",
            "size:  5\n"
          ]
        }
      ]
    },
    {
      "cell_type": "markdown",
      "source": [
        "**4. Operaciones Básicas:**\n",
        "* Suma dos matrices de tamaño 2x2 con valores aleatorios entre 0 y 10.\n",
        "* Multiplica dos matrices de tamaño 3x2 y 2x3 respectivamente.\n",
        "* Divide una matriz de tamaño 2x2 por otra matriz de tamaño 2x2,\n",
        "utilizando tanto la división por elementos como la multiplicación por la\n",
        "inversa."
      ],
      "metadata": {
        "id": "wfJg04i_VEYA"
      }
    },
    {
      "cell_type": "code",
      "source": [
        "# Suma dos matrices de tamaño 2x2 con valores aleatorios entre 0 y 10.\n",
        "ale1 = np.random.randint(0,10,size=(2,2))\n",
        "ale2 = np.random.randint(0,10,size=(2,2))\n",
        "print(\"Suma matriz aleatoria 2x2: \",ale1+ale2)\n",
        "# Multiplica dos matrices de tamaño 3x2 y 2x3 respectivamente.\n",
        "ale3 = np.random.randint(0,10,size=(3,2))\n",
        "ale4 = np.random.randint(0,10,size=(2,3))\n",
        "print(\"Producto matrices 3x2 2x3 aleatorias: \", ale3*ale4.shape)\n",
        "# Divide una matriz de tamaño 2x2 por otra matriz de tamaño 2x2, utilizando tanto la división por elementos como la multiplicación por la inversa.\n",
        "ale5= np.random.randint(0,10,size=(2,2))\n",
        "ale6= np.random.randint(0,10,size=(2,2))\n",
        "\n",
        "print(\"División por elementos: \",ale5/ale6)\n",
        "print(\"División matemática: \", ale5 * np.linalg.inv(ale6))"
      ],
      "metadata": {
        "colab": {
          "base_uri": "https://localhost:8080/"
        },
        "id": "ykxTv3k9VRV6",
        "outputId": "218bec85-04d3-4ffb-f0f5-e7c11e7769a5"
      },
      "execution_count": 58,
      "outputs": [
        {
          "output_type": "stream",
          "name": "stdout",
          "text": [
            "Suma matriz aleatoria 2x2:  [[11  9]\n",
            " [ 6  7]]\n",
            "Producto matrices 3x2 2x3 aleatorias:  [[14 18]\n",
            " [14 15]\n",
            " [ 0 15]]\n",
            "División por elementos:  [[  inf 1.125]\n",
            " [0.    2.5  ]]\n",
            "División matemática:  [[-0.5  4.5]\n",
            " [ 0.   0. ]]\n"
          ]
        },
        {
          "output_type": "stream",
          "name": "stderr",
          "text": [
            "<ipython-input-58-b20d1b868935>:13: RuntimeWarning: divide by zero encountered in divide\n",
            "  print(\"División por elementos: \",ale5/ale6)\n"
          ]
        }
      ]
    },
    {
      "cell_type": "markdown",
      "source": [
        "**5. Manipulación de Arrays:**\n",
        "* Utiliza la función reshape() para convertir el vector creado en el paso 2\n",
        "en una matriz de tamaño 9x1\n",
        ".\n",
        "* Utiliza la función flatten() para convertir la matriz creada en el paso 2\n",
        "en un vector unidimensional."
      ],
      "metadata": {
        "id": "gCIbtJwcXOq0"
      }
    },
    {
      "cell_type": "code",
      "source": [
        "# Utiliza la función reshape() para convertir el vector creado en el paso 2 en una matriz de tamaño 9x1.\n",
        "re = np.reshape(a2,(9,1))\n",
        "print(\"matriz 9x1 reshape: \", re)\n",
        "# Utiliza la función flatten() para convertir la matriz creada en el paso 2 en un vector unidimensional.\n",
        "fla = a2.flatten()\n",
        "print(\"matriz aplanada flatten: \",fla)"
      ],
      "metadata": {
        "colab": {
          "base_uri": "https://localhost:8080/"
        },
        "id": "AEP2DV5QXwnw",
        "outputId": "2e0ba0e9-7b20-4a8a-eb47-2a71ca879e18"
      },
      "execution_count": 59,
      "outputs": [
        {
          "output_type": "stream",
          "name": "stdout",
          "text": [
            "matriz 9x1 reshape:  [[1]\n",
            " [2]\n",
            " [3]\n",
            " [4]\n",
            " [5]\n",
            " [6]\n",
            " [7]\n",
            " [8]\n",
            " [9]]\n",
            "matriz aplanada flatten:  [1 2 3 4 5 6 7 8 9]\n"
          ]
        }
      ]
    },
    {
      "cell_type": "markdown",
      "source": [
        "**6. Operaciones Estadísticas:**\n",
        "* Calcula la suma de todos los elementos de la matriz creada en el paso 2.\n",
        "* Calcula la media de cada fila de la matriz creada en el paso 2."
      ],
      "metadata": {
        "id": "7-8ZEVJjZvE3"
      }
    },
    {
      "cell_type": "code",
      "source": [
        "# Calcula la suma de todos los elementos de la matriz creada en el paso 2.\n",
        "sum = np.sum(a2)\n",
        "print(\"Suma de elementos: \", a2)\n",
        "# Calcula la media de cada fila de la matriz creada en el paso 2.\n",
        "media = np.mean(a2,axis=1)\n",
        "media"
      ],
      "metadata": {
        "colab": {
          "base_uri": "https://localhost:8080/"
        },
        "id": "lWYn86CuZ2Bh",
        "outputId": "b6750287-3d56-42d1-820d-e297cd0b6d25"
      },
      "execution_count": 60,
      "outputs": [
        {
          "output_type": "stream",
          "name": "stdout",
          "text": [
            "Suma de elementos:  [[1 2 3]\n",
            " [4 5 6]\n",
            " [7 8 9]]\n"
          ]
        },
        {
          "output_type": "execute_result",
          "data": {
            "text/plain": [
              "array([2., 5., 8.])"
            ]
          },
          "metadata": {},
          "execution_count": 60
        }
      ]
    },
    {
      "cell_type": "markdown",
      "source": [
        "**7. Indexación y Rebanado:**\n",
        "* Imprime la primera fila de la matriz creada en el paso 2.\n",
        "* Imprime las primeras dos columnas de la matriz creada en el paso 2."
      ],
      "metadata": {
        "id": "13GsdNDhbmNI"
      }
    },
    {
      "cell_type": "code",
      "source": [
        "#  Imprime la primera fila de la matriz creada en el paso 2.\n",
        "fil1 = a2[0]\n",
        "print(\"Primera fila: \", fil1)\n",
        "#  Imprime las primeras dos columnas de la matriz creada en el paso 2.\n",
        "col2 = a2[:, :2]\n",
        "print(\"Primeras 2 columnas: \", col2)"
      ],
      "metadata": {
        "colab": {
          "base_uri": "https://localhost:8080/"
        },
        "id": "nipEtesQZ2Hx",
        "outputId": "fd7dcd5c-8dc5-4abc-8297-dc92e747137e"
      },
      "execution_count": 61,
      "outputs": [
        {
          "output_type": "stream",
          "name": "stdout",
          "text": [
            "Primera fila:  [1 2 3]\n",
            "Primeras 2 columnas:  [[1 2]\n",
            " [4 5]\n",
            " [7 8]]\n"
          ]
        }
      ]
    },
    {
      "cell_type": "markdown",
      "source": [
        "**8. Ejercicio Adicional:**\n",
        "* Define una matriz de tamaño 4x4 con valores aleatorios.\n",
        "* Escribe un código para encontrar el valor máximo y mínimo de la matriz,\n",
        "así como su posición."
      ],
      "metadata": {
        "id": "_mEdF5wqcyE9"
      }
    },
    {
      "cell_type": "code",
      "source": [
        "# Define una matriz de tamaño 4x4 con valores aleatorios.\n",
        "m4x4 = np.random.randint(1,99,size=(4,4))\n",
        "print(\"Matriz 4x4 aleatoria: \", m4x4)\n",
        "# Escribe un código para encontrar el valor máximo y mínimo de la matriz, así como su posición.\n",
        "\n",
        "def max(arra):\n",
        "  max = -99999999999999999\n",
        "  for i in arra:\n",
        "    for e in i:\n",
        "      if(e > max):\n",
        "        max = e\n",
        "  return max\n",
        "\n",
        "def min(arra):\n",
        "  min = 9999999999999999999\n",
        "  for i in arra:\n",
        "    for e in i:\n",
        "      if(e < min):\n",
        "        min = e\n",
        "  return min\n",
        "\n",
        "print(\"Número máximo de array: \",max(m4x4))\n",
        "\n",
        "print(\"Número mínimo de array: \",min(m4x4))"
      ],
      "metadata": {
        "colab": {
          "base_uri": "https://localhost:8080/"
        },
        "id": "TJBolgVechLY",
        "outputId": "04f4d8e7-ae49-4106-f8d3-5615b44d6e9a"
      },
      "execution_count": 62,
      "outputs": [
        {
          "output_type": "stream",
          "name": "stdout",
          "text": [
            "Matriz 4x4 aleatoria:  [[88 11 19 23]\n",
            " [51 53 83 52]\n",
            " [90 79 92 44]\n",
            " [20 44  6 70]]\n",
            "Número máximo de array:  92\n",
            "Número mínimo de array:  6\n"
          ]
        }
      ]
    }
  ]
}