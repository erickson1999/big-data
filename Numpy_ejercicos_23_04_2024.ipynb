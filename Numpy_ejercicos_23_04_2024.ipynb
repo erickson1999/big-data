{
  "nbformat": 4,
  "nbformat_minor": 0,
  "metadata": {
    "colab": {
      "provenance": [],
      "authorship_tag": "ABX9TyPThP3wZY9E9PCryZSzlMut",
      "include_colab_link": true
    },
    "kernelspec": {
      "name": "python3",
      "display_name": "Python 3"
    },
    "language_info": {
      "name": "python"
    }
  },
  "cells": [
    {
      "cell_type": "markdown",
      "metadata": {
        "id": "view-in-github",
        "colab_type": "text"
      },
      "source": [
        "<a href=\"https://colab.research.google.com/github/erickson1999/big-data/blob/main/Numpy_ejercicos_23_04_2024.ipynb\" target=\"_parent\"><img src=\"https://colab.research.google.com/assets/colab-badge.svg\" alt=\"Open In Colab\"/></a>"
      ]
    },
    {
      "cell_type": "markdown",
      "source": [
        "**1. Importar NumPy:**"
      ],
      "metadata": {
        "id": "J4Mms20YPFjE"
      }
    },
    {
      "cell_type": "code",
      "execution_count": 72,
      "metadata": {
        "id": "feydufJOO-yc"
      },
      "outputs": [],
      "source": [
        "import numpy as np"
      ]
    },
    {
      "cell_type": "markdown",
      "source": [
        "**1. Creación de Arrays:**\n",
        "*   Crea un array unidimensional (vector) con 5 elementos enteros de tu\n",
        "elección.\n",
        "*   Crea una matriz bidimensional (matriz) de tamaño 3x3 con valores\n",
        "enteros consecutivos.\n",
        "*   Utiliza la función np.zeros() para crear una matriz de tamaño 2x4 llena\n",
        "de ceros.\n",
        "*   Utiliza la función np.ones() para crear una matriz de tamaño 3x2 llena\n",
        "de unos.\n",
        "*   Utiliza la función np.random.randint() para crear una matriz.\n",
        "\n",
        "\n",
        "\n",
        "\n",
        "\n",
        "\n",
        "\n",
        "\n",
        "\n"
      ],
      "metadata": {
        "id": "odpzLyjUPP30"
      }
    },
    {
      "cell_type": "code",
      "source": [
        "# Crea un array unidimensional (vector) con 5 elementos enteros de tu\n",
        "# elección.\n",
        "a1 = np.array([1,2,3,4,5])\n",
        "print(\"matriz unidimensional: \",a1)\n",
        "# Crea una matriz bidimensional (matriz) de tamaño 3x3 con valores\n",
        "# enteros consecutivos.\n",
        "a2 = np.array([[1,2,3],[4,5,6],[7,8,9]])\n",
        "print(\"matriz bidimensional 3x3: \",a2)\n",
        "# Utiliza la función np.zeros() para crear una matriz de tamaño 2x4 llena de ceros\n",
        "a3 = np.zeros((2,4),int)\n",
        "print(\"matriz ceros: \",a3)\n",
        "# Utiliza la función np.ones() para crear una matriz de tamaño 3x2 llena de unos.\n",
        "a4 = np.ones((3,2),int)\n",
        "print(\"matriz unos: \", a4)\n",
        "# Utiliza la función np.random.randint() para crear una matriz.\n",
        "a5 = np.random.randint(1,4,size=(3,3))\n",
        "print(\"matriz aleatoria 3x3: \",a5 )"
      ],
      "metadata": {
        "colab": {
          "base_uri": "https://localhost:8080/"
        },
        "id": "e9z90tLQPaaY",
        "outputId": "2e73be41-ea9e-4cca-a24a-c7c332010df9"
      },
      "execution_count": 73,
      "outputs": [
        {
          "output_type": "stream",
          "name": "stdout",
          "text": [
            "matriz unidimensional:  [1 2 3 4 5]\n",
            "matriz bidimensional 3x3:  [[1 2 3]\n",
            " [4 5 6]\n",
            " [7 8 9]]\n",
            "matriz ceros:  [[0 0 0 0]\n",
            " [0 0 0 0]]\n",
            "matriz unos:  [[1 1]\n",
            " [1 1]\n",
            " [1 1]]\n",
            "matriz aleatoria 3x3:  [[2 3 1]\n",
            " [2 2 2]\n",
            " [1 3 2]]\n"
          ]
        }
      ]
    },
    {
      "cell_type": "markdown",
      "source": [
        "**2. Acceso a Elementos:**\n",
        "* Accede al tercer elemento del vector creado en el paso 2.\n",
        "* Accede al elemento en la segunda fila y segunda columna de la matriz\n",
        "creada en el paso 2."
      ],
      "metadata": {
        "id": "WV2Pt7sOR0Vz"
      }
    },
    {
      "cell_type": "code",
      "source": [
        "# Accede al tercer elemento del vector creado en el paso 2.\n",
        "ele3 = a1[2]\n",
        "print(\"tercer elemento: \", ele3)\n",
        "# Accede al elemento en la segunda fila y segunda columna de la matriz creada en el paso 2\n",
        "ele2x2 = a2[2][2]\n",
        "print(\"elemento 2x2: \", ele2x2)\n"
      ],
      "metadata": {
        "colab": {
          "base_uri": "https://localhost:8080/"
        },
        "id": "j7XeurKuRuh8",
        "outputId": "1dc79897-1711-4dbc-e56d-123caad8bd82"
      },
      "execution_count": 74,
      "outputs": [
        {
          "output_type": "stream",
          "name": "stdout",
          "text": [
            "tercer elemento:  3\n",
            "elemento 2x2:  9\n"
          ]
        }
      ]
    },
    {
      "cell_type": "markdown",
      "source": [
        "**3. Propiedades de los Arrays:**\n",
        "* Utiliza el atributo ndim para verificar la cantidad de dimensiones de la\n",
        "matriz creada en el paso 2.\n",
        "* Utiliza el atributo shape para obtener la forma de la matriz creada en el\n",
        "paso 2.\n",
        "* Utiliza el atributo size para obtener el tamaño total de la matriz creada\n",
        "en el paso 2."
      ],
      "metadata": {
        "id": "GQQicXizTMwS"
      }
    },
    {
      "cell_type": "code",
      "source": [
        "# Utiliza el atributo ndim para verificar la cantidad de dimensiones de la matriz creada en el paso 2.\n",
        "d1 = a1.ndim\n",
        "print(\"ndim: \",d1)\n",
        "# Utiliza el atributo shape para obtener la forma de la matriz creada en el paso 2.\n",
        "d2 = a1.shape\n",
        "print(\"shape: \",d2)\n",
        "# Utiliza el atributo size para obtener el tamaño total de la matriz creada en el paso 2\n",
        "d3 = a1.size\n",
        "print(\"size: \",d3)"
      ],
      "metadata": {
        "colab": {
          "base_uri": "https://localhost:8080/"
        },
        "id": "X689wsjMTVhI",
        "outputId": "9530ebe3-ad5a-40f0-bc7e-e545e6341ee0"
      },
      "execution_count": 75,
      "outputs": [
        {
          "output_type": "stream",
          "name": "stdout",
          "text": [
            "ndim:  1\n",
            "shape:  (5,)\n",
            "size:  5\n"
          ]
        }
      ]
    },
    {
      "cell_type": "markdown",
      "source": [
        "**4. Operaciones Básicas:**\n",
        "* Suma dos matrices de tamaño 2x2 con valores aleatorios entre 0 y 10.\n",
        "* Multiplica dos matrices de tamaño 3x2 y 2x3 respectivamente.\n",
        "* Divide una matriz de tamaño 2x2 por otra matriz de tamaño 2x2,\n",
        "utilizando tanto la división por elementos como la multiplicación por la\n",
        "inversa."
      ],
      "metadata": {
        "id": "wfJg04i_VEYA"
      }
    },
    {
      "cell_type": "code",
      "source": [
        "# Suma dos matrices de tamaño 2x2 con valores aleatorios entre 0 y 10.\n",
        "ale1 = np.random.randint(0,10,size=(2,2))\n",
        "ale2 = np.random.randint(0,10,size=(2,2))\n",
        "print(\"Suma matriz aleatoria 2x2: \",ale1+ale2)\n",
        "# Multiplica dos matrices de tamaño 3x2 y 2x3 respectivamente.\n",
        "ale3 = np.random.randint(1,10,size=(3,2))\n",
        "ale4 = np.random.randint(1,10,size=(2,3))\n",
        "print(\"Producto matrices 3x2 2x3 aleatorias: \", ale3*ale4.shape)\n",
        "# Divide una matriz de tamaño 2x2 por otra matriz de tamaño 2x2, utilizando tanto la división por elementos como la multiplicación por la inversa.\n",
        "ale5= np.random.randint(1,10,size=(2,2))\n",
        "ale6= np.random.randint(1,10,size=(2,2))\n",
        "\n",
        "print(\"División por elementos: \",ale5/ale6)\n",
        "print(\"División matemática: \", ale5 * np.linalg.inv(ale6))"
      ],
      "metadata": {
        "colab": {
          "base_uri": "https://localhost:8080/"
        },
        "id": "ykxTv3k9VRV6",
        "outputId": "552cdde3-de13-4161-9986-49f1b96be6ac"
      },
      "execution_count": 76,
      "outputs": [
        {
          "output_type": "stream",
          "name": "stdout",
          "text": [
            "Suma matriz aleatoria 2x2:  [[ 8 14]\n",
            " [14 17]]\n",
            "Producto matrices 3x2 2x3 aleatorias:  [[14  3]\n",
            " [12 21]\n",
            " [18  9]]\n",
            "División por elementos:  [[0.71428571 1.8       ]\n",
            " [2.         0.28571429]]\n",
            "División matemática:  [[ 1.20689655 -1.55172414]\n",
            " [-1.10344828  0.48275862]]\n"
          ]
        }
      ]
    },
    {
      "cell_type": "markdown",
      "source": [
        "**5. Manipulación de Arrays:**\n",
        "* Utiliza la función reshape() para convertir el vector creado en el paso 2\n",
        "en una matriz de tamaño 9x1\n",
        ".\n",
        "* Utiliza la función flatten() para convertir la matriz creada en el paso 2\n",
        "en un vector unidimensional."
      ],
      "metadata": {
        "id": "gCIbtJwcXOq0"
      }
    },
    {
      "cell_type": "code",
      "source": [
        "# Utiliza la función reshape() para convertir el vector creado en el paso 2 en una matriz de tamaño 9x1.\n",
        "re = np.reshape(a2,(9,1))\n",
        "print(\"matriz 9x1 reshape: \", re)\n",
        "# Utiliza la función flatten() para convertir la matriz creada en el paso 2 en un vector unidimensional.\n",
        "fla = a2.flatten()\n",
        "print(\"matriz aplanada flatten: \",fla)"
      ],
      "metadata": {
        "colab": {
          "base_uri": "https://localhost:8080/"
        },
        "id": "AEP2DV5QXwnw",
        "outputId": "c160fac0-2155-4f55-e909-e928073e3bc0"
      },
      "execution_count": 77,
      "outputs": [
        {
          "output_type": "stream",
          "name": "stdout",
          "text": [
            "matriz 9x1 reshape:  [[1]\n",
            " [2]\n",
            " [3]\n",
            " [4]\n",
            " [5]\n",
            " [6]\n",
            " [7]\n",
            " [8]\n",
            " [9]]\n",
            "matriz aplanada flatten:  [1 2 3 4 5 6 7 8 9]\n"
          ]
        }
      ]
    },
    {
      "cell_type": "markdown",
      "source": [
        "**6. Operaciones Estadísticas:**\n",
        "* Calcula la suma de todos los elementos de la matriz creada en el paso 2.\n",
        "* Calcula la media de cada fila de la matriz creada en el paso 2."
      ],
      "metadata": {
        "id": "7-8ZEVJjZvE3"
      }
    },
    {
      "cell_type": "code",
      "source": [
        "# Calcula la suma de todos los elementos de la matriz creada en el paso 2.\n",
        "sum = np.sum(a2)\n",
        "print(\"Suma de elementos: \", a2)\n",
        "# Calcula la media de cada fila de la matriz creada en el paso 2.\n",
        "media = np.mean(a2,axis=1)\n",
        "print(\"Media de cada fila: \", media)"
      ],
      "metadata": {
        "colab": {
          "base_uri": "https://localhost:8080/"
        },
        "id": "lWYn86CuZ2Bh",
        "outputId": "2638e642-d72d-401d-ed48-48564d0ec503"
      },
      "execution_count": 78,
      "outputs": [
        {
          "output_type": "stream",
          "name": "stdout",
          "text": [
            "Suma de elementos:  [[1 2 3]\n",
            " [4 5 6]\n",
            " [7 8 9]]\n",
            "Media de cada fila:  [2. 5. 8.]\n"
          ]
        }
      ]
    },
    {
      "cell_type": "markdown",
      "source": [
        "**7. Indexación y Rebanado:**\n",
        "* Imprime la primera fila de la matriz creada en el paso 2.\n",
        "* Imprime las primeras dos columnas de la matriz creada en el paso 2."
      ],
      "metadata": {
        "id": "13GsdNDhbmNI"
      }
    },
    {
      "cell_type": "code",
      "source": [
        "#  Imprime la primera fila de la matriz creada en el paso 2.\n",
        "fil1 = a2[0]\n",
        "print(\"Primera fila: \", fil1)\n",
        "#  Imprime las primeras dos columnas de la matriz creada en el paso 2.\n",
        "col2 = a2[:, :2]\n",
        "print(\"Primeras 2 columnas: \", col2)"
      ],
      "metadata": {
        "colab": {
          "base_uri": "https://localhost:8080/"
        },
        "id": "nipEtesQZ2Hx",
        "outputId": "c57dc7e6-e4e0-4931-847f-b1b1bf4ec206"
      },
      "execution_count": 79,
      "outputs": [
        {
          "output_type": "stream",
          "name": "stdout",
          "text": [
            "Primera fila:  [1 2 3]\n",
            "Primeras 2 columnas:  [[1 2]\n",
            " [4 5]\n",
            " [7 8]]\n"
          ]
        }
      ]
    },
    {
      "cell_type": "markdown",
      "source": [
        "**8. Ejercicio Adicional:**\n",
        "* Define una matriz de tamaño 4x4 con valores aleatorios.\n",
        "* Escribe un código para encontrar el valor máximo y mínimo de la matriz,\n",
        "así como su posición."
      ],
      "metadata": {
        "id": "_mEdF5wqcyE9"
      }
    },
    {
      "cell_type": "code",
      "source": [
        "# Define una matriz de tamaño 4x4 con valores aleatorios.\n",
        "m4x4 = np.random.randint(1,99,size=(4,4))\n",
        "print(\"Matriz 4x4 aleatoria: \", m4x4)\n",
        "# Escribe un código para encontrar el valor máximo y mínimo de la matriz, así como su posición.\n",
        "\n",
        "def max(arra):\n",
        "  max = -99999999999999999\n",
        "  for i in arra:\n",
        "    for e in i:\n",
        "      if(e > max):\n",
        "        max = e\n",
        "  return max\n",
        "\n",
        "def min(arra):\n",
        "  min = 9999999999999999999\n",
        "  for i in arra:\n",
        "    for e in i:\n",
        "      if(e < min):\n",
        "        min = e\n",
        "  return min\n",
        "\n",
        "print(\"Número máximo de array: \",max(m4x4))\n",
        "\n",
        "print(\"Número mínimo de array: \",min(m4x4))"
      ],
      "metadata": {
        "colab": {
          "base_uri": "https://localhost:8080/"
        },
        "id": "TJBolgVechLY",
        "outputId": "67e29e9f-79a0-44c8-92dc-0ac9e8af03ff"
      },
      "execution_count": 80,
      "outputs": [
        {
          "output_type": "stream",
          "name": "stdout",
          "text": [
            "Matriz 4x4 aleatoria:  [[72 59 39 20]\n",
            " [30 36 90 13]\n",
            " [92 56 39 71]\n",
            " [73 86  5 98]]\n",
            "Número máximo de array:  98\n",
            "Número mínimo de array:  5\n"
          ]
        }
      ]
    }
  ]
}